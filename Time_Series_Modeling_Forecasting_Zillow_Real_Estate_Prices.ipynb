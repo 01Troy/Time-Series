{
 "cells": [
  {
   "cell_type": "markdown",
   "metadata": {
    "colab_type": "text",
    "id": "view-in-github"
   },
   "source": [
    "<a href=\"https://colab.research.google.com/github/VivianKingasia/Time-Series-Modeling-Forecasting-Zillow-Real-Estate-Prices/blob/main/Time_Series_Modeling_Forecasting_Zillow_Real_Estate_Prices.ipynb\" target=\"_parent\"><img src=\"https://colab.research.google.com/assets/colab-badge.svg\" alt=\"Open In Colab\"/></a>"
   ]
  },
  {
   "cell_type": "markdown",
   "metadata": {
    "id": "WWT8gR1wEcQ0"
   },
   "source": [
    "# THE LEAGUE PROJECT\n",
    "Authors:\n",
    " - Keith Maina\n",
    " - Vivian Kingasia\n",
    " - Ann Maureen\n",
    " - Brian Kigen\n",
    " - Charity Gakuru\n",
    " - Hannah Mutua\n",
    " - Mercy Ngila\n",
    " - Steve Troy"
   ]
  },
  {
   "cell_type": "markdown",
   "metadata": {},
   "source": [
    "## Business Understanding"
   ]
  },
  {
   "cell_type": "markdown",
   "metadata": {},
   "source": [
    "### Introduction\n",
    "What's the state of the real estate industry:\n",
    " - What's the average ROI in the industry?<br>\n",
    " According to  <a href= 'https://www.peoplescapitalgroup.com/average-roi-real-estate/'>People's capital Group</a> ,residential properties have an average annual return of <b>10.6%</b>, commercial properties have a <b>9.5%</b> average return\n",
    " - What problems do real estate investors go through?<br>\n",
    " The 3rd problem in <a href= https://www.becomealocalleader.com/marketing-tips/the-5-biggest-challenges-facing-real-estate-agents-and-how-to-fix-them/>this</a> article by Becaome a Local Leader, says that one of the major problems is <b>adapting to technology trends</b>. By working with us, the investors have already solved said problem."
   ]
  },
  {
   "cell_type": "markdown",
   "metadata": {},
   "source": [
    "### Problem Statement\n",
    "We have been consulted by League Real-estate Investment Firm and we need to find out the top 5 best zip codes to invest in.<br><br>\n",
    "We will use Return On Investment as a measure for a successful investment. <br>\n",
    "We will use --this metric-- to evaluate the success of our model.\n",
    "\n",
    "\n",
    "### Problem Questions\n",
    "- How long does it take to cash out on the investment?\n",
    "- How risky <b>(measured as ---)</b> is the investment?\n",
    "- When are the prices most volatile <b>(measured as frequency of price change in a small timeframe)</b> and where are the locations of the properties with most volatility?\n",
    "- How much profit can investors potentially make based on our predictions?\n",
    "- Can we use the information gained from this project to gain clients and if so, how?\n",
    "- Does urbanization affect the prices of houses?"
   ]
  }
 ],
 "metadata": {
  "colab": {
   "authorship_tag": "ABX9TyMwrfqxcuCpb6N1boC3XC8y",
   "include_colab_link": true,
   "name": " Time-Series-Modeling-Forecasting-Zillow-Real-Estate-Prices.ipynb",
   "provenance": []
  },
  "kernelspec": {
   "display_name": "Python 3 (ipykernel)",
   "language": "python",
   "name": "python3"
  },
  "language_info": {
   "codemirror_mode": {
    "name": "ipython",
    "version": 3
   },
   "file_extension": ".py",
   "mimetype": "text/x-python",
   "name": "python",
   "nbconvert_exporter": "python",
   "pygments_lexer": "ipython3",
   "version": "3.9.7"
  }
 },
 "nbformat": 4,
 "nbformat_minor": 1
}
