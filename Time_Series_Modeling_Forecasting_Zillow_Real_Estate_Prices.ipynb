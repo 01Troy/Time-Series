{
 "cells": [
  {
   "cell_type": "markdown",
   "metadata": {
    "colab_type": "text",
    "id": "view-in-github"
   },
   "source": [
    "<a href=\"https://colab.research.google.com/github/VivianKingasia/Time-Series-Modeling-Forecasting-Zillow-Real-Estate-Prices/blob/main/Time_Series_Modeling_Forecasting_Zillow_Real_Estate_Prices.ipynb\" target=\"_parent\"><img src=\"https://colab.research.google.com/assets/colab-badge.svg\" alt=\"Open In Colab\"/></a>"
   ]
  },
  {
   "cell_type": "markdown",
   "metadata": {
    "id": "WWT8gR1wEcQ0"
   },
   "source": [
    "# THE LEAGUE PROJECT\n",
    "Authors:\n",
    " - Keith Maina\n",
    " - Vivian Kingasia\n",
    " - Ann Maureen\n",
    " - Brian Kigen\n",
    " - Charity Gakuru\n",
    " - Hannah Mutua\n",
    " - Mercy Ngila\n",
    " - Steve Troy"
   ]
  },
  {
   "cell_type": "markdown",
   "metadata": {},
   "source": [
    "## Business Understanding"
   ]
  },
  {
   "cell_type": "markdown",
   "metadata": {},
   "source": [
    "### Introduction\n",
    "In 2021, the real estate industry in the United States was valued at USD 3.69 trillion and was expected to experience a 5.2% compound interest growth for the period between 2022 and 2030. This potential predicted growth of the industry, coupled with rising population rates in the US create a huge lucrative opportunity potential for real estate investors to make huge profits provided they <b>manage risk</b> and <b>make the right investments</b>.<br>\n",
    "According to <a href= 'https://www.peoplescapitalgroup.com/average-roi-real-estate/'>People's Capital Group</a>, residential properties have an average annual return of 10.6% and commercial properties have a 9.5% average return."
   ]
  },
  {
   "cell_type": "markdown",
   "metadata": {},
   "source": [
    "### Problem Statement\n",
    "The stakeholder in this project is a real estate investment firm that is looking to construct residential homes in top five locations in the US that would provide a high return on their investment. This project therefore is a time series analysis on a Zillow dataset on various locations around the United States.<br><br>\n",
    "\n",
    "The project will involve analyzing the house sale prices from 1996 to 2018 to determine the top five locations with the highest Return on Investment (ROI).<br>\n",
    "The stakeholder is also risk-averse and therefore the project involves recommending locations with low price volatility which can easily be predicted with the model.<br>\n",
    "\n",
    "In our time series analysis, the metric of success to determine model viability will be RMSE/MSE.\n",
    "\n",
    "### Project Scope\n",
    "The primary goal of this project will be to conduct a time series analysis to predict the five best locations to invest in based on ROI."
   ]
  },
  {
   "cell_type": "markdown",
   "metadata": {},
   "source": [
    "### Problem Questions\n",
    "- What are the five best locations to invest in around the US?\n",
    "- What makes these locations so lucrative?\n",
    "- Does urbanization affect the prices of houses?\n",
    "- How long does it take to cash out on the investment?\n",
    "- How risky <b>(measured as ---)</b> is the investment?\n",
    "- When are the prices most volatile <b>(measured as frequency of price change in a small timeframe)</b> and where are the locations of the houses with most volatility?\n",
    "- How much profit can investors potentially make based on our predictions?\n",
    "- Can we use the information gained from this project to gain clients and if so, how?\n"
   ]
  },
  {
   "cell_type": "markdown",
   "metadata": {},
   "source": [
    "### Project Objectives\n",
    "1. Provide effective real estate investment recommendations to the stakeholder.\n",
    "2. Increase the real estate investor’s customer base.\n"
   ]
  },
  {
   "cell_type": "code",
   "execution_count": null,
   "metadata": {},
   "outputs": [],
   "source": []
  }
 ],
 "metadata": {
  "colab": {
   "authorship_tag": "ABX9TyMwrfqxcuCpb6N1boC3XC8y",
   "include_colab_link": true,
   "name": " Time-Series-Modeling-Forecasting-Zillow-Real-Estate-Prices.ipynb",
   "provenance": []
  },
  "kernelspec": {
   "display_name": "Python 3 (ipykernel)",
   "language": "python",
   "name": "python3"
  },
  "language_info": {
   "codemirror_mode": {
    "name": "ipython",
    "version": 3
   },
   "file_extension": ".py",
   "mimetype": "text/x-python",
   "name": "python",
   "nbconvert_exporter": "python",
   "pygments_lexer": "ipython3",
   "version": "3.9.7"
  }
 },
 "nbformat": 4,
 "nbformat_minor": 1
}
